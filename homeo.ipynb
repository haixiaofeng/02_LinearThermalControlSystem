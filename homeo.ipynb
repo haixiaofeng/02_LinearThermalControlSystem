{
  "cells": [
    {
      "cell_type": "markdown",
      "id": "5a3881f7-4c8c-4803-9dc4-af021da58f3d",
      "metadata": {
        "id": "5a3881f7-4c8c-4803-9dc4-af021da58f3d"
      },
      "source": [
        "#"
      ]
    },
    {
      "cell_type": "markdown",
      "id": "476ebb82-e897-4e96-882e-e25a4a6c502b",
      "metadata": {
        "id": "476ebb82-e897-4e96-882e-e25a4a6c502b"
      },
      "source": [
        "## Homeo:\n",
        "#### Control System For Greenhouse Thermoregulation Using Water-Based Solar Thermal Storage"
      ]
    },
    {
      "cell_type": "markdown",
      "id": "aae64c10-f7de-482b-b6cd-c1f58c4e286f",
      "metadata": {
        "id": "aae64c10-f7de-482b-b6cd-c1f58c4e286f"
      },
      "source": [
        "#####"
      ]
    },
    {
      "cell_type": "markdown",
      "id": "c85cae44-f863-4989-a3ed-c336b0b62e5e",
      "metadata": {
        "id": "c85cae44-f863-4989-a3ed-c336b0b62e5e"
      },
      "source": [
        "Haixiao (Harry) Feng"
      ]
    },
    {
      "cell_type": "markdown",
      "id": "597b08be-9b44-487f-a2df-10aad2157b6f",
      "metadata": {
        "id": "597b08be-9b44-487f-a2df-10aad2157b6f"
      },
      "source": [
        "#"
      ]
    },
    {
      "cell_type": "markdown",
      "id": "53f50b5d-a2f1-4c14-8ef0-5ae949b7e1ab",
      "metadata": {
        "id": "53f50b5d-a2f1-4c14-8ef0-5ae949b7e1ab"
      },
      "source": [
        "Resouces/References:\n",
        "- [OpenAI Gym Documentation](https://www.gymlibrary.ml/)"
      ]
    },
    {
      "cell_type": "markdown",
      "id": "fdf0ac9e-f61b-4d60-99bf-5cd49710946a",
      "metadata": {
        "id": "fdf0ac9e-f61b-4d60-99bf-5cd49710946a"
      },
      "source": [
        "#"
      ]
    },
    {
      "cell_type": "markdown",
      "id": "9ba0c84f-e597-4dcc-9f38-9c245999aae0",
      "metadata": {
        "id": "9ba0c84f-e597-4dcc-9f38-9c245999aae0"
      },
      "source": [
        "#### Installations & Dependencies"
      ]
    },
    {
      "cell_type": "code",
      "execution_count": null,
      "id": "9f3f667b-ee3d-48cd-9d7e-e29f182e9acb",
      "metadata": {
        "id": "9f3f667b-ee3d-48cd-9d7e-e29f182e9acb"
      },
      "outputs": [],
      "source": [
        "# '''\n",
        "# Install dependencies\n",
        "# '''\n",
        "\n",
        "# !pip install gym\n",
        "# !pip install gym[classic_control]\n",
        "\n",
        "# # !pip install tensorflow==2.3.0\n",
        "# !pip install tensorflow\n",
        "# !pip install keras\n",
        "# !pip install keras-rl2"
      ]
    },
    {
      "cell_type": "code",
      "execution_count": null,
      "id": "a32de6ea-df81-4e18-a5da-b72bd21183f7",
      "metadata": {
        "id": "a32de6ea-df81-4e18-a5da-b72bd21183f7"
      },
      "outputs": [],
      "source": [
        "'''\n",
        "Import dependencies\n",
        "'''\n",
        "\n",
        "import numpy as np\n",
        "import random\n",
        "import warnings\n",
        "warnings.filterwarnings(\"ignore\")\n",
        "\n",
        "import gym\n",
        "from gym import Env\n",
        "from gym.spaces import Discrete, Box\n",
        "\n",
        "from tensorflow.keras.models import Sequential\n",
        "from tensorflow.keras.layers import Dense, Flatten\n",
        "from tensorflow.keras.optimizers import Adam\n",
        "\n",
        "from rl.agents import DQNAgent\n",
        "from rl.policy import BoltzmannQPolicy\n",
        "from rl.memory import SequentialMemory"
      ]
    },
    {
      "cell_type": "markdown",
      "id": "e15362ae-5e13-42dd-b74a-3233a0f7bee8",
      "metadata": {
        "id": "e15362ae-5e13-42dd-b74a-3233a0f7bee8"
      },
      "source": [
        "#"
      ]
    },
    {
      "cell_type": "markdown",
      "id": "93c1a1cf-83e1-40df-a914-7b03e5df837f",
      "metadata": {
        "id": "93c1a1cf-83e1-40df-a914-7b03e5df837f"
      },
      "source": [
        "#### Custom Environment _(OpenAI Gym)_"
      ]
    },
    {
      "cell_type": "code",
      "execution_count": null,
      "id": "b2074669-0254-4e5d-8d73-70c7076874b6",
      "metadata": {
        "id": "b2074669-0254-4e5d-8d73-70c7076874b6"
      },
      "outputs": [],
      "source": [
        "'''\n",
        "Possible actions to take:\n",
        "    - Increase water flow\n",
        "    - Decrease water flow\n",
        "    - Maintain water flow\n",
        "'''\n",
        "\n",
        "class ShowerEnv(Env):\n",
        "    def __init__(self):\n",
        "        # Actions we can take, down, stay, up\n",
        "        self.action_space = Discrete(3)\n",
        "        # Temperature array\n",
        "        self.observation_space = Box(low=np.array([0]), high=np.array([100]))\n",
        "        # Set start temp\n",
        "        self.state = 38 + random.randint(-3,3)\n",
        "        # Set shower length\n",
        "        self.shower_length = 60\n",
        "        \n",
        "    def step(self, action):\n",
        "        # Apply action\n",
        "        # 0 -1 = -1 temperature\n",
        "        # 1 -1 = 0 \n",
        "        # 2 -1 = 1 temperature \n",
        "        self.state += action -1 \n",
        "        # Reduce shower length by 1 second\n",
        "        self.shower_length -= 1 \n",
        "        \n",
        "        # Calculate reward\n",
        "        if self.state >=37 and self.state <=39: \n",
        "            reward =1 \n",
        "        else: \n",
        "            reward = -1 \n",
        "        \n",
        "        # Check if shower is done\n",
        "        if self.shower_length <= 0: \n",
        "            done = True\n",
        "        else:\n",
        "            done = False\n",
        "        \n",
        "        # Apply temperature noise\n",
        "        #self.state += random.randint(-1,1)\n",
        "        # Set placeholder for info\n",
        "        info = {}\n",
        "        \n",
        "        # Return step information\n",
        "        return self.state, reward, done, info\n",
        "\n",
        "    def render(self):\n",
        "        # Implement viz\n",
        "        pass\n",
        "    \n",
        "    def reset(self):\n",
        "        # Reset shower temperature\n",
        "        self.state = 38 + random.randint(-3,3)\n",
        "        # Reset shower time\n",
        "        self.shower_length = 60 \n",
        "        return self.state\n",
        "    "
      ]
    },
    {
      "cell_type": "code",
      "execution_count": null,
      "id": "e9ed138c-3966-4032-ad8a-5e676cd6017f",
      "metadata": {
        "id": "e9ed138c-3966-4032-ad8a-5e676cd6017f"
      },
      "outputs": [],
      "source": [
        "env = ShowerEnv()"
      ]
    },
    {
      "cell_type": "code",
      "execution_count": null,
      "id": "f30f27af-a2f1-4aec-9bf0-c79090c72cac",
      "metadata": {
        "id": "f30f27af-a2f1-4aec-9bf0-c79090c72cac",
        "outputId": "2f06c750-d6f7-44d3-bf25-5edc871b7e7d"
      },
      "outputs": [
        {
          "data": {
            "text/plain": [
              "array([50.94729], dtype=float32)"
            ]
          },
          "execution_count": 8,
          "metadata": {},
          "output_type": "execute_result"
        }
      ],
      "source": [
        "env.observation_space.sample()"
      ]
    },
    {
      "cell_type": "code",
      "execution_count": null,
      "id": "049d4fb7-4f0b-4674-9a31-51aed0c9ee07",
      "metadata": {
        "id": "049d4fb7-4f0b-4674-9a31-51aed0c9ee07",
        "outputId": "3d0b0ccb-33d4-461b-d1e8-2ff5a46833ae"
      },
      "outputs": [
        {
          "name": "stdout",
          "output_type": "stream",
          "text": [
            "Episode:1 Score:-52\n",
            "Episode:2 Score:-52\n",
            "Episode:3 Score:-38\n",
            "Episode:4 Score:-48\n",
            "Episode:5 Score:-28\n",
            "Episode:6 Score:-28\n",
            "Episode:7 Score:-52\n",
            "Episode:8 Score:-60\n",
            "Episode:9 Score:-20\n",
            "Episode:10 Score:-40\n"
          ]
        }
      ],
      "source": [
        "episodes = 10\n",
        "for episode in range(1, episodes+1):\n",
        "    state = env.reset()\n",
        "    done = False\n",
        "    score = 0 \n",
        "    \n",
        "    while not done:\n",
        "        #env.render()\n",
        "        action = env.action_space.sample()\n",
        "        n_state, reward, done, info = env.step(action)\n",
        "        score+=reward\n",
        "    print('Episode:{} Score:{}'.format(episode, score))"
      ]
    },
    {
      "cell_type": "code",
      "execution_count": null,
      "id": "b5f19a4a-d0e9-4c48-9b6c-e320217d4c41",
      "metadata": {
        "id": "b5f19a4a-d0e9-4c48-9b6c-e320217d4c41"
      },
      "outputs": [],
      "source": [
        "states = env.observation_space.shape\n",
        "actions = env.action_space.n"
      ]
    },
    {
      "cell_type": "markdown",
      "id": "11c759b3-990d-4b97-b63d-065af8877fc5",
      "metadata": {
        "id": "11c759b3-990d-4b97-b63d-065af8877fc5"
      },
      "source": [
        "#"
      ]
    },
    {
      "cell_type": "markdown",
      "id": "5d42c712-6238-482b-ba70-0ff84a2bb0d9",
      "metadata": {
        "id": "5d42c712-6238-482b-ba70-0ff84a2bb0d9"
      },
      "source": [
        "#### Neural Network Modeling"
      ]
    },
    {
      "cell_type": "code",
      "execution_count": null,
      "id": "5d403ed3-a808-4689-a960-256b712b2056",
      "metadata": {
        "id": "5d403ed3-a808-4689-a960-256b712b2056"
      },
      "outputs": [],
      "source": [
        "def build_model(states, actions):\n",
        "    model = Sequential()    \n",
        "    model.add(Dense(24, activation='relu', input_shape=states))\n",
        "    model.add(Dense(24, activation='relu'))\n",
        "    model.add(Dense(actions, activation='linear'))\n",
        "    return model"
      ]
    },
    {
      "cell_type": "code",
      "execution_count": null,
      "id": "9445e83d-bc40-4911-9fd7-b333922023a0",
      "metadata": {
        "id": "9445e83d-bc40-4911-9fd7-b333922023a0",
        "outputId": "9602e00a-8adf-4750-eff9-e4425a32e008"
      },
      "outputs": [
        {
          "ename": "NameError",
          "evalue": "name 'model' is not defined",
          "output_type": "error",
          "traceback": [
            "\u001b[1;31m---------------------------------------------------------------------------\u001b[0m",
            "\u001b[1;31mNameError\u001b[0m                                 Traceback (most recent call last)",
            "Input \u001b[1;32mIn [12]\u001b[0m, in \u001b[0;36m<cell line: 1>\u001b[1;34m()\u001b[0m\n\u001b[1;32m----> 1\u001b[0m \u001b[38;5;28;01mdel\u001b[39;00m model\n",
            "\u001b[1;31mNameError\u001b[0m: name 'model' is not defined"
          ]
        }
      ],
      "source": [
        "del model"
      ]
    },
    {
      "cell_type": "code",
      "execution_count": null,
      "id": "9c20813f-f999-4be9-8fa0-8572e1ef857b",
      "metadata": {
        "id": "9c20813f-f999-4be9-8fa0-8572e1ef857b"
      },
      "outputs": [],
      "source": [
        "model = build_model(states, actions)"
      ]
    },
    {
      "cell_type": "code",
      "execution_count": null,
      "id": "22e02aea-8c4c-4f92-8e40-1a4dd021d6fe",
      "metadata": {
        "id": "22e02aea-8c4c-4f92-8e40-1a4dd021d6fe",
        "outputId": "c46484b6-a89c-4972-9734-b274db54f7ba"
      },
      "outputs": [
        {
          "name": "stdout",
          "output_type": "stream",
          "text": [
            "Model: \"sequential\"\n",
            "_________________________________________________________________\n",
            " Layer (type)                Output Shape              Param #   \n",
            "=================================================================\n",
            " dense (Dense)               (None, 24)                48        \n",
            "                                                                 \n",
            " dense_1 (Dense)             (None, 24)                600       \n",
            "                                                                 \n",
            " dense_2 (Dense)             (None, 3)                 75        \n",
            "                                                                 \n",
            "=================================================================\n",
            "Total params: 723\n",
            "Trainable params: 723\n",
            "Non-trainable params: 0\n",
            "_________________________________________________________________\n"
          ]
        }
      ],
      "source": [
        "model.summary()"
      ]
    },
    {
      "cell_type": "markdown",
      "id": "559ccfbe-b037-465f-b073-5b66da0df1d0",
      "metadata": {
        "id": "559ccfbe-b037-465f-b073-5b66da0df1d0"
      },
      "source": [
        "#"
      ]
    },
    {
      "cell_type": "markdown",
      "id": "2f58e50d-11f6-4966-b48a-3d4263afb1fa",
      "metadata": {
        "id": "2f58e50d-11f6-4966-b48a-3d4263afb1fa"
      },
      "source": [
        "#### Agent Bulid _(Keras-RL)_"
      ]
    },
    {
      "cell_type": "code",
      "execution_count": null,
      "id": "61712dbb-98d8-4317-9f41-f9daa2db3c41",
      "metadata": {
        "id": "61712dbb-98d8-4317-9f41-f9daa2db3c41"
      },
      "outputs": [],
      "source": [
        "def build_agent(model, actions):\n",
        "    policy = BoltzmannQPolicy()\n",
        "    memory = SequentialMemory(limit=50000, window_length=1)\n",
        "    dqn = DQNAgent(model=model, memory=memory, policy=policy, \n",
        "                  nb_actions=actions, nb_steps_warmup=10, target_model_update=1e-2)\n",
        "    \n",
        "    return dqn"
      ]
    },
    {
      "cell_type": "code",
      "execution_count": null,
      "id": "df19f371-09b5-47ea-9379-0c8b6818ab32",
      "metadata": {
        "id": "df19f371-09b5-47ea-9379-0c8b6818ab32"
      },
      "outputs": [],
      "source": [
        "dqn = build_agent(model, actions)\n",
        "dqn.compile(Adam(lr=1e-3), metrics=['mae'])"
      ]
    },
    {
      "cell_type": "code",
      "execution_count": null,
      "id": "a7344392-7c23-4322-add3-bb93ea953032",
      "metadata": {
        "id": "a7344392-7c23-4322-add3-bb93ea953032",
        "outputId": "4fb5c869-f362-4bc9-e5a8-c7bfb53f8946"
      },
      "outputs": [
        {
          "name": "stdout",
          "output_type": "stream",
          "text": [
            "Training for 50000 steps ...\n",
            "Interval 1 (0 steps performed)\n",
            "    1/10000 [..............................] - ETA: 35:22 - reward: -1.0000"
          ]
        },
        {
          "name": "stderr",
          "output_type": "stream",
          "text": [
            "C:\\Users\\HFeng\\Anaconda3\\envs\\homeo1\\lib\\site-packages\\rl\\memory.py:38: DeprecationWarning: This function is deprecated. Please call randint(1, 10 + 1) instead\n",
            "  batch_idxs = np.random.random_integers(low, high - 1, size=size)\n"
          ]
        },
        {
          "name": "stdout",
          "output_type": "stream",
          "text": [
            "   21/10000 [..............................] - ETA: 16:57 - reward: -0.4286"
          ]
        },
        {
          "name": "stderr",
          "output_type": "stream",
          "text": [
            "C:\\Users\\HFeng\\Anaconda3\\envs\\homeo1\\lib\\site-packages\\rl\\memory.py:38: DeprecationWarning: This function is deprecated. Please call randint(1, 11 + 1) instead\n",
            "  batch_idxs = np.random.random_integers(low, high - 1, size=size)\n",
            "C:\\Users\\HFeng\\Anaconda3\\envs\\homeo1\\lib\\site-packages\\rl\\memory.py:38: DeprecationWarning: This function is deprecated. Please call randint(1, 12 + 1) instead\n",
            "  batch_idxs = np.random.random_integers(low, high - 1, size=size)\n",
            "C:\\Users\\HFeng\\Anaconda3\\envs\\homeo1\\lib\\site-packages\\rl\\memory.py:38: DeprecationWarning: This function is deprecated. Please call randint(1, 13 + 1) instead\n",
            "  batch_idxs = np.random.random_integers(low, high - 1, size=size)\n",
            "C:\\Users\\HFeng\\Anaconda3\\envs\\homeo1\\lib\\site-packages\\rl\\memory.py:38: DeprecationWarning: This function is deprecated. Please call randint(1, 14 + 1) instead\n",
            "  batch_idxs = np.random.random_integers(low, high - 1, size=size)\n",
            "C:\\Users\\HFeng\\Anaconda3\\envs\\homeo1\\lib\\site-packages\\rl\\memory.py:38: DeprecationWarning: This function is deprecated. Please call randint(1, 15 + 1) instead\n",
            "  batch_idxs = np.random.random_integers(low, high - 1, size=size)\n",
            "C:\\Users\\HFeng\\Anaconda3\\envs\\homeo1\\lib\\site-packages\\rl\\memory.py:38: DeprecationWarning: This function is deprecated. Please call randint(1, 16 + 1) instead\n",
            "  batch_idxs = np.random.random_integers(low, high - 1, size=size)\n",
            "C:\\Users\\HFeng\\Anaconda3\\envs\\homeo1\\lib\\site-packages\\rl\\memory.py:38: DeprecationWarning: This function is deprecated. Please call randint(1, 17 + 1) instead\n",
            "  batch_idxs = np.random.random_integers(low, high - 1, size=size)\n",
            "C:\\Users\\HFeng\\Anaconda3\\envs\\homeo1\\lib\\site-packages\\rl\\memory.py:38: DeprecationWarning: This function is deprecated. Please call randint(1, 18 + 1) instead\n",
            "  batch_idxs = np.random.random_integers(low, high - 1, size=size)\n",
            "C:\\Users\\HFeng\\Anaconda3\\envs\\homeo1\\lib\\site-packages\\rl\\memory.py:38: DeprecationWarning: This function is deprecated. Please call randint(1, 19 + 1) instead\n",
            "  batch_idxs = np.random.random_integers(low, high - 1, size=size)\n"
          ]
        },
        {
          "name": "stdout",
          "output_type": "stream",
          "text": [
            "   26/10000 [..............................] - ETA: 14:22 - reward: -0.153"
          ]
        },
        {
          "name": "stderr",
          "output_type": "stream",
          "text": [
            "C:\\Users\\HFeng\\Anaconda3\\envs\\homeo1\\lib\\site-packages\\rl\\memory.py:38: DeprecationWarning: This function is deprecated. Please call randint(1, 20 + 1) instead\n",
            "  batch_idxs = np.random.random_integers(low, high - 1, size=size)\n",
            "C:\\Users\\HFeng\\Anaconda3\\envs\\homeo1\\lib\\site-packages\\rl\\memory.py:38: DeprecationWarning: This function is deprecated. Please call randint(1, 21 + 1) instead\n",
            "  batch_idxs = np.random.random_integers(low, high - 1, size=size)\n",
            "C:\\Users\\HFeng\\Anaconda3\\envs\\homeo1\\lib\\site-packages\\rl\\memory.py:38: DeprecationWarning: This function is deprecated. Please call randint(1, 22 + 1) instead\n",
            "  batch_idxs = np.random.random_integers(low, high - 1, size=size)\n",
            "C:\\Users\\HFeng\\Anaconda3\\envs\\homeo1\\lib\\site-packages\\rl\\memory.py:38: DeprecationWarning: This function is deprecated. Please call randint(1, 23 + 1) instead\n",
            "  batch_idxs = np.random.random_integers(low, high - 1, size=size)\n",
            "C:\\Users\\HFeng\\Anaconda3\\envs\\homeo1\\lib\\site-packages\\rl\\memory.py:38: DeprecationWarning: This function is deprecated. Please call randint(1, 24 + 1) instead\n",
            "  batch_idxs = np.random.random_integers(low, high - 1, size=size)\n",
            "C:\\Users\\HFeng\\Anaconda3\\envs\\homeo1\\lib\\site-packages\\rl\\memory.py:38: DeprecationWarning: This function is deprecated. Please call randint(1, 25 + 1) instead\n",
            "  batch_idxs = np.random.random_integers(low, high - 1, size=size)\n",
            "C:\\Users\\HFeng\\Anaconda3\\envs\\homeo1\\lib\\site-packages\\rl\\memory.py:38: DeprecationWarning: This function is deprecated. Please call randint(1, 26 + 1) instead\n",
            "  batch_idxs = np.random.random_integers(low, high - 1, size=size)\n",
            "C:\\Users\\HFeng\\Anaconda3\\envs\\homeo1\\lib\\site-packages\\rl\\memory.py:38: DeprecationWarning: This function is deprecated. Please call randint(1, 27 + 1) instead\n",
            "  batch_idxs = np.random.random_integers(low, high - 1, size=size)\n"
          ]
        },
        {
          "name": "stdout",
          "output_type": "stream",
          "text": [
            "   36/10000 [..............................] - ETA: 11:22 - reward: 0.0000e+00"
          ]
        },
        {
          "name": "stderr",
          "output_type": "stream",
          "text": [
            "C:\\Users\\HFeng\\Anaconda3\\envs\\homeo1\\lib\\site-packages\\rl\\memory.py:38: DeprecationWarning: This function is deprecated. Please call randint(1, 28 + 1) instead\n",
            "  batch_idxs = np.random.random_integers(low, high - 1, size=size)\n",
            "C:\\Users\\HFeng\\Anaconda3\\envs\\homeo1\\lib\\site-packages\\rl\\memory.py:38: DeprecationWarning: This function is deprecated. Please call randint(1, 29 + 1) instead\n",
            "  batch_idxs = np.random.random_integers(low, high - 1, size=size)\n",
            "C:\\Users\\HFeng\\Anaconda3\\envs\\homeo1\\lib\\site-packages\\rl\\memory.py:38: DeprecationWarning: This function is deprecated. Please call randint(1, 30 + 1) instead\n",
            "  batch_idxs = np.random.random_integers(low, high - 1, size=size)\n",
            "C:\\Users\\HFeng\\Anaconda3\\envs\\homeo1\\lib\\site-packages\\rl\\memory.py:38: DeprecationWarning: This function is deprecated. Please call randint(1, 31 + 1) instead\n",
            "  batch_idxs = np.random.random_integers(low, high - 1, size=size)\n"
          ]
        },
        {
          "name": "stdout",
          "output_type": "stream",
          "text": [
            "10000/10000 [==============================] - 221s 22ms/step - reward: -0.7772\n",
            "166 episodes - episode_reward: -46.855 [-60.000, 6.000] - loss: 2.890 - mae: 10.864 - mean_q: -12.647\n",
            "\n",
            "Interval 2 (10000 steps performed)\n",
            "10000/10000 [==============================] - 221s 22ms/step - reward: -0.6588\n",
            "167 episodes - episode_reward: -39.473 [-60.000, 38.000] - loss: 2.875 - mae: 11.523 - mean_q: -16.503\n",
            "\n",
            "Interval 3 (20000 steps performed)\n",
            "10000/10000 [==============================] - 222s 22ms/step - reward: -0.5436\n",
            "167 episodes - episode_reward: -32.491 [-60.000, 44.000] - loss: 2.929 - mae: 12.390 - mean_q: -17.848\n",
            "\n",
            "Interval 4 (30000 steps performed)\n",
            "10000/10000 [==============================] - 229s 23ms/step - reward: -0.4744\n",
            "166 episodes - episode_reward: -28.663 [-60.000, 40.000] - loss: 3.453 - mae: 13.760 - mean_q: -19.942\n",
            "\n",
            "Interval 5 (40000 steps performed)\n",
            " 6744/10000 [===================>..........] - ETA: 1:13 - reward: -0.4095"
          ]
        }
      ],
      "source": [
        "dqn.fit(env, nb_steps=50000, visualize=False, verbose=1)"
      ]
    },
    {
      "cell_type": "code",
      "execution_count": null,
      "id": "20a5e100-d688-4496-b9ea-8705e124f7c5",
      "metadata": {
        "id": "20a5e100-d688-4496-b9ea-8705e124f7c5"
      },
      "outputs": [],
      "source": [
        "scores = dqn.test(env, nb_episodes=100, visualize=False)\n",
        "print(np.mean(scores.history['episode_reward']))"
      ]
    },
    {
      "cell_type": "code",
      "execution_count": null,
      "id": "31fd532f-2e85-4de1-954e-4aa756e9e03d",
      "metadata": {
        "id": "31fd532f-2e85-4de1-954e-4aa756e9e03d"
      },
      "outputs": [],
      "source": [
        "_ = dqn.test(env, nb_episodes=15, visualize=True)"
      ]
    },
    {
      "cell_type": "code",
      "execution_count": null,
      "id": "4fc76c02-047c-4805-b789-d39cdabe1b3a",
      "metadata": {
        "id": "4fc76c02-047c-4805-b789-d39cdabe1b3a"
      },
      "outputs": [],
      "source": [
        "dqn.save_weights('dqn_weights.h5f', overwrite=True)"
      ]
    },
    {
      "cell_type": "markdown",
      "id": "9dbc69ba-289a-41f5-bf7b-bc14aeae5683",
      "metadata": {
        "id": "9dbc69ba-289a-41f5-bf7b-bc14aeae5683"
      },
      "source": [
        "#"
      ]
    },
    {
      "cell_type": "markdown",
      "id": "da65196f-f91a-4264-a2cf-f9b85b1e7a02",
      "metadata": {
        "id": "da65196f-f91a-4264-a2cf-f9b85b1e7a02"
      },
      "source": [
        "#### Test"
      ]
    },
    {
      "cell_type": "code",
      "execution_count": null,
      "id": "41aeeecd-5d1d-48f2-8e5c-40974338b263",
      "metadata": {
        "id": "41aeeecd-5d1d-48f2-8e5c-40974338b263"
      },
      "outputs": [],
      "source": [
        "del model\n",
        "del dqn\n",
        "del env"
      ]
    },
    {
      "cell_type": "code",
      "execution_count": null,
      "id": "ddd1b6c1-dc3e-4e9f-93f9-a64a107d5922",
      "metadata": {
        "id": "ddd1b6c1-dc3e-4e9f-93f9-a64a107d5922"
      },
      "outputs": [],
      "source": [
        "env = gym.make('CartPole-v0')\n",
        "actions = env.action_space.n\n",
        "states = env.observation_space.shape[0]\n",
        "model = build_model(states, actions)\n",
        "dqn = build_agent(model, actions)\n",
        "dqn.compile(Adam(lr=1e-3), metrics=['mae'])"
      ]
    },
    {
      "cell_type": "code",
      "execution_count": null,
      "id": "f1023993-e5bc-4e92-a86f-707e0cad39f0",
      "metadata": {
        "id": "f1023993-e5bc-4e92-a86f-707e0cad39f0"
      },
      "outputs": [],
      "source": [
        "dqn.load_weights('dqn_weights.h5f')"
      ]
    },
    {
      "cell_type": "code",
      "execution_count": null,
      "id": "f3bf52d8-2c3b-4ba3-88d0-6a96e11b0543",
      "metadata": {
        "id": "f3bf52d8-2c3b-4ba3-88d0-6a96e11b0543"
      },
      "outputs": [],
      "source": [
        "_ = dqn.test(env, nb_episodes=5, visualize=True)"
      ]
    },
    {
      "cell_type": "markdown",
      "id": "11dee127-1a7e-4fff-9956-586ed616bd5c",
      "metadata": {
        "id": "11dee127-1a7e-4fff-9956-586ed616bd5c"
      },
      "source": [
        "#"
      ]
    }
  ],
  "metadata": {
    "kernelspec": {
      "display_name": "Python 3 (ipykernel)",
      "language": "python",
      "name": "python3"
    },
    "language_info": {
      "codemirror_mode": {
        "name": "ipython",
        "version": 3
      },
      "file_extension": ".py",
      "mimetype": "text/x-python",
      "name": "python",
      "nbconvert_exporter": "python",
      "pygments_lexer": "ipython3",
      "version": "3.10.4"
    },
    "colab": {
      "name": "homeo.ipynb",
      "provenance": []
    }
  },
  "nbformat": 4,
  "nbformat_minor": 5
}